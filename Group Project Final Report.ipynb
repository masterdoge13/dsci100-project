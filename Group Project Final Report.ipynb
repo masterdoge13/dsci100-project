{
 "cells": [
  {
   "cell_type": "code",
   "execution_count": null,
   "id": "3ed495c5-ac38-408c-8fa1-7399656e22b6",
   "metadata": {},
   "outputs": [],
   "source": [
    "library(tidyverse)\n",
    "library(repr)\n",
    "library(rvest)\n",
    "library(stringr)\n",
    "library(janitor)\n",
    "options(repr.matrix.max.rows = 6)"
   ]
  },
  {
   "cell_type": "code",
   "execution_count": null,
   "id": "7077bcc1-f59f-44ac-9bde-0ddd2dac6d26",
   "metadata": {},
   "outputs": [],
   "source": [
    "players_url <- \"https://drive.google.com/uc?export=download&id=1Mw9vW0hjTJwRWx0bDXiSpYsO3gKogaPz\"\n",
    "sessions_url <- \"https://drive.google.com/uc?export=download&id=14O91N5OlVkvdGxXNJUj5jIsV5RexhzbB\"\n",
    "players <- read_csv(players_url)\n",
    "players\n",
    "sessions <- read_csv(sessions_url)\n",
    "sessions"
   ]
  },
  {
   "cell_type": "code",
   "execution_count": null,
   "id": "ce01b00d-19a2-46ba-a6fa-dceb84a28fc1",
   "metadata": {},
   "outputs": [],
   "source": [
    "sessions_wrangled <- separate(sessions, start_time, c(\"start_day\", \"start_month\", \"start_year\", \"start_hour\", \"start_min\"))|>\n",
    "    separate(end_time, c(\"end_day\", \"end_month\", \"end_year\", \"end_hour\", \"end_min\"))|>\n",
    "    mutate(start_day = as.numeric(start_day),\n",
    "           start_month = as.numeric(start_month),\n",
    "           start_year = as.numeric(start_year),\n",
    "           start_hour = as.numeric(start_hour),\n",
    "           start_min = as.numeric(start_min),\n",
    "           end_day = as.numeric(end_day),\n",
    "           end_month = as.numeric(end_month),\n",
    "           end_year = as.numeric(end_year),\n",
    "           end_hour = as.numeric(end_hour),\n",
    "           end_min = as.numeric(end_min))\n",
    "\n",
    "sessions_wrangled"
   ]
  }
 ],
 "metadata": {
  "kernelspec": {
   "display_name": "R",
   "language": "R",
   "name": "ir"
  },
  "language_info": {
   "codemirror_mode": "r",
   "file_extension": ".r",
   "mimetype": "text/x-r-source",
   "name": "R",
   "pygments_lexer": "r",
   "version": "4.3.3"
  }
 },
 "nbformat": 4,
 "nbformat_minor": 5
}
